{
 "cells": [
  {
   "cell_type": "code",
   "execution_count": 1,
   "id": "f8a5a909",
   "metadata": {},
   "outputs": [],
   "source": [
    "import numpy as np"
   ]
  },
  {
   "cell_type": "code",
   "execution_count": 24,
   "id": "9e862dde",
   "metadata": {},
   "outputs": [],
   "source": [
    "def gen_key(text):\n",
    "    rn = np.random.randint(0, 255, len(text))\n",
    "    key = [hex(e)[2:] for e in rn]\n",
    "    return key"
   ]
  },
  {
   "cell_type": "code",
   "execution_count": 2,
   "id": "36c6087d",
   "metadata": {},
   "outputs": [
    {
     "name": "stdout",
     "output_type": "stream",
     "text": [
      "19 18\n"
     ]
    }
   ],
   "source": [
    "p1 = \"пусть будет так-сяк\"\n",
    "p2 = \"или может быть так\"\n",
    "print(len(p1), len(p2))"
   ]
  },
  {
   "cell_type": "code",
   "execution_count": null,
   "id": "f5f8f35c",
   "metadata": {},
   "outputs": [],
   "source": []
  }
 ],
 "metadata": {
  "kernelspec": {
   "display_name": "Python 3 (ipykernel)",
   "language": "python",
   "name": "python3"
  },
  "language_info": {
   "codemirror_mode": {
    "name": "ipython",
    "version": 3
   },
   "file_extension": ".py",
   "mimetype": "text/x-python",
   "name": "python",
   "nbconvert_exporter": "python",
   "pygments_lexer": "ipython3",
   "version": "3.9.7"
  }
 },
 "nbformat": 4,
 "nbformat_minor": 5
}
