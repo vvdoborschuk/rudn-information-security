{
 "cells": [
  {
   "cell_type": "code",
   "execution_count": 7,
   "id": "f8a5a909",
   "metadata": {},
   "outputs": [],
   "source": [
    "import numpy as np"
   ]
  },
  {
   "cell_type": "code",
   "execution_count": 8,
   "id": "9e862dde",
   "metadata": {},
   "outputs": [],
   "source": [
    "def gen_key(text):\n",
    "    rn = np.random.randint(0, 255, len(text))\n",
    "    key = [hex(e)[2:] for e in rn]\n",
    "    return key"
   ]
  },
  {
   "cell_type": "code",
   "execution_count": 9,
   "id": "36c6087d",
   "metadata": {},
   "outputs": [
    {
     "name": "stdout",
     "output_type": "stream",
     "text": [
      "18 18\n"
     ]
    }
   ],
   "source": [
    "p1 = \"возможно будет так\"\n",
    "p2 = \"или может быть так\"\n",
    "print(len(p1), len(p2))"
   ]
  },
  {
   "cell_type": "code",
   "execution_count": 10,
   "id": "8eaa5d1f",
   "metadata": {},
   "outputs": [],
   "source": [
    "def encrypt(p1, p2):\n",
    "    print(f\"P1: {p1}\")\n",
    "    print(f\"P2: {p2}\")\n",
    "    \n",
    "    hex_p1 = []\n",
    "    hex_p2 = []\n",
    "    \n",
    "    for i in range(len(p1)):\n",
    "        hex_p1.append(p1[i].encode(\"cp1251\").hex())\n",
    "        hex_p2.append(p2[i].encode(\"cp1251\").hex())\n",
    "    \n",
    "    print(\"Hex P1: \", hex_p1)\n",
    "    print(\"Hex P2: \", hex_p2)\n",
    "    \n",
    "    key = gen_key(p1)\n",
    "    print(\"Hex key: \", key)\n",
    "    \n",
    "    hex_c1 = []\n",
    "    hex_c2 = []\n",
    "    \n",
    "    for i in range(len(hex_p1)):\n",
    "        hex_c1.append(\"{:02x}\".format(int(key[i], 16) ^ int(hex_p1[i], 16)))\n",
    "        hex_c2.append(\"{:02x}\".format(int(key[i], 16) ^ int(hex_p2[i], 16)))\n",
    "    \n",
    "    print(\"Hex C1: \", hex_c1)\n",
    "    print(\"Hex C2: \", hex_c2)\n",
    "    \n",
    "    c1 = bytearray.fromhex(\"\".join(hex_c1)).decode(\"cp1251\")\n",
    "    c2 = bytearray.fromhex(\"\".join(hex_c2)).decode(\"cp1251\")\n",
    "    \n",
    "    print(f\"C1: {c1}\")\n",
    "    print(f\"C2: {c2}\")\n",
    "    \n",
    "    return key, c1, c2"
   ]
  },
  {
   "cell_type": "code",
   "execution_count": 11,
   "id": "75f07d6f",
   "metadata": {},
   "outputs": [
    {
     "name": "stdout",
     "output_type": "stream",
     "text": [
      "P1: возможно будет так\n",
      "P2: или может быть так\n",
      "Hex P1:  ['e2', 'ee', 'e7', 'ec', 'ee', 'e6', 'ed', 'ee', '20', 'e1', 'f3', 'e4', 'e5', 'f2', '20', 'f2', 'e0', 'ea']\n",
      "Hex P2:  ['e8', 'eb', 'e8', '20', 'ec', 'ee', 'e6', 'e5', 'f2', '20', 'e1', 'fb', 'f2', 'fc', '20', 'f2', 'e0', 'ea']\n",
      "Hex key:  ['bd', 'd7', '5c', '9', '5d', 'f9', '35', '3d', 'f', 'fe', 'b8', '49', '38', 'fe', 'a3', 'e7', 'a4', '0']\n",
      "Hex C1:  ['5f', '39', 'bb', 'e5', 'b3', '1f', 'd8', 'd3', '2f', '1f', '4b', 'ad', 'dd', '0c', '83', '15', '44', 'ea']\n",
      "Hex C2:  ['55', '3c', 'b4', '29', 'b1', '17', 'd3', 'd8', 'fd', 'de', '59', 'b2', 'ca', '02', '83', '15', '44', 'ea']\n",
      "C1: _9»еі\u001fШУ/\u001fK­Э\f",
      "ѓ\u0015Dк\n",
      "C2: U<ґ)±\u0017УШэЮYІК\u0002ѓ\u0015Dк\n"
     ]
    }
   ],
   "source": [
    "key, c1, c2 = encrypt(p1, p2)"
   ]
  },
  {
   "cell_type": "code",
   "execution_count": 13,
   "id": "4ad72357",
   "metadata": {},
   "outputs": [],
   "source": [
    "def decrypt(c1, c2, p1):\n",
    "    print(f\"C1: {c1}\")\n",
    "    print(f\"C2: {c2}\")\n",
    "    print(f\"P1: {p1}\")\n",
    "    \n",
    "    hex_c1 = []\n",
    "    hex_c2 = []\n",
    "    hex_p1 = []\n",
    "    \n",
    "    for i in range(len(p1)):\n",
    "        hex_c1.append(c1[i].encode(\"cp1251\").hex())\n",
    "        hex_c2.append(c2[i].encode(\"cp1251\").hex())\n",
    "        hex_p1.append(p1[i].encode(\"cp1251\").hex())\n",
    "        \n",
    "    print(\"Hex C1: \", hex_c1)\n",
    "    print(\"Hex C2: \", hex_c2)\n",
    "    print(\"Hex P1: \", hex_p1)\n",
    "        \n",
    "    hex_p2 = []\n",
    "    \n",
    "    for i in range(len(p1)):\n",
    "        hex_p2.append(\"{:02x}\".format(int(hex_c1[i], 16) ^ int(hex_c2[i], 16) ^ int(hex_p1[i], 16)))\n",
    "        \n",
    "    print(\"Hex P2: \", hex_p2)\n",
    "    p2 = bytearray.fromhex(\"\".join(hex_p2)).decode(\"cp1251\")\n",
    "    \n",
    "    print(f\"P2: {p2}\")\n",
    "    return p1, p2"
   ]
  },
  {
   "cell_type": "code",
   "execution_count": 14,
   "id": "1d1cf758",
   "metadata": {},
   "outputs": [
    {
     "name": "stdout",
     "output_type": "stream",
     "text": [
      "C1: _9»еі\u001fШУ/\u001fK­Э\f",
      "ѓ\u0015Dк\n",
      "C2: U<ґ)±\u0017УШэЮYІК\u0002ѓ\u0015Dк\n",
      "P1: возможно будет так\n",
      "Hex C1:  ['5f', '39', 'bb', 'e5', 'b3', '1f', 'd8', 'd3', '2f', '1f', '4b', 'ad', 'dd', '0c', '83', '15', '44', 'ea']\n",
      "Hex C2:  ['55', '3c', 'b4', '29', 'b1', '17', 'd3', 'd8', 'fd', 'de', '59', 'b2', 'ca', '02', '83', '15', '44', 'ea']\n",
      "Hex P1:  ['e2', 'ee', 'e7', 'ec', 'ee', 'e6', 'ed', 'ee', '20', 'e1', 'f3', 'e4', 'e5', 'f2', '20', 'f2', 'e0', 'ea']\n",
      "Hex P2:  ['e8', 'eb', 'e8', '20', 'ec', 'ee', 'e6', 'e5', 'f2', '20', 'e1', 'fb', 'f2', 'fc', '20', 'f2', 'e0', 'ea']\n",
      "P2: или может быть так\n"
     ]
    }
   ],
   "source": [
    "p1_new, p2_new = decrypt(c1, c2, p1)"
   ]
  },
  {
   "cell_type": "code",
   "execution_count": null,
   "id": "79a9ef8e",
   "metadata": {},
   "outputs": [],
   "source": []
  }
 ],
 "metadata": {
  "kernelspec": {
   "display_name": "Python 3 (ipykernel)",
   "language": "python",
   "name": "python3"
  },
  "language_info": {
   "codemirror_mode": {
    "name": "ipython",
    "version": 3
   },
   "file_extension": ".py",
   "mimetype": "text/x-python",
   "name": "python",
   "nbconvert_exporter": "python",
   "pygments_lexer": "ipython3",
   "version": "3.9.7"
  }
 },
 "nbformat": 4,
 "nbformat_minor": 5
}
