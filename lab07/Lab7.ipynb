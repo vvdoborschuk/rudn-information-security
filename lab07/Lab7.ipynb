{
 "cells": [
  {
   "cell_type": "code",
   "execution_count": 1,
   "id": "f8a5a909",
   "metadata": {},
   "outputs": [],
   "source": [
    "import numpy as np"
   ]
  },
  {
   "cell_type": "code",
   "execution_count": 24,
   "id": "9e862dde",
   "metadata": {},
   "outputs": [],
   "source": [
    "def gen_key(text):\n",
    "    rn = np.random.randint(0, 255, len(text))\n",
    "    key = [hex(e)[2:] for e in rn]\n",
    "    return key"
   ]
  },
  {
   "cell_type": "code",
   "execution_count": 25,
   "id": "7c90ce42",
   "metadata": {},
   "outputs": [],
   "source": [
    "def crypt_message(open_text, key):\n",
    "    print(f\"Open Text: {open_text}\")\n",
    "    hex_open_text = []\n",
    "    for ch in open_text:\n",
    "        hex_open_text.append(ch.encode(\"cp1251\").hex())\n",
    "    \n",
    "    print(\"Hex Open Text: \", *hex_open_text)\n",
    "\n",
    "    print(\"Key: \", *key)\n",
    "    hex_crypted_text = []\n",
    "    for i in range(len(hex_open_text)):\n",
    "        hex_crypted_text.append(\"{:02x}\".format(int(key[i], 16)^int(hex_open_text[i], 16)))\n",
    "    \n",
    "    print(\"Hex Crypted Text: \", *hex_crypted_text)\n",
    "    crypted_text = bytearray.fromhex(\"\".join(hex_crypted_text)).decode(\"cp1251\")\n",
    "    print(f\"Crypted Text: {crypted_text}\")\n",
    "    \n",
    "    return crypted_text"
   ]
  },
  {
   "cell_type": "code",
   "execution_count": null,
   "id": "11356ae4",
   "metadata": {},
   "outputs": [],
   "source": [
    "def find_key(open_text, crypted_text):\n",
    "    print(f\"Open Text: {open_text}\\nCrypted Text: {crypted_text}\")\n",
    "    hex_open_text = []\n",
    "    for ch in open_text:\n",
    "        hex_open_text.append(ch.encode(\"cp1251\").hex())\n",
    "        \n",
    "    hex_crypted_text = []\n",
    "    for ch in crypted_text:\n",
    "        hex_crypted_text.append(ch.encode(\"cp1251\").hex())\n",
    "        \n",
    "    print(\"Hex Open Text: \", *hex_open_text)\n",
    "    print(\"Hex Crypted Text: \", *hex_crypted_text)\n",
    "    \n",
    "    key = [hex(int(i,16)^int(j,16))[2:] for (i,j) in zip(hex_open_text, hex_crypted_text)]\n",
    "    print(\"Key \", *key)\n",
    "    \n",
    "    return key"
   ]
  },
  {
   "cell_type": "code",
   "execution_count": 26,
   "id": "ea949606",
   "metadata": {},
   "outputs": [],
   "source": [
    "raw = \"С Новым Годом, друзья!\"\n",
    "key1 = gen_key(raw)"
   ]
  },
  {
   "cell_type": "code",
   "execution_count": 27,
   "id": "9566aa2a",
   "metadata": {},
   "outputs": [
    {
     "name": "stdout",
     "output_type": "stream",
     "text": [
      "Open Text: С Новым Годом, друзья!\n",
      "Hex Open Text:  d1 20 cd ee e2 fb ec 20 c3 ee e4 ee ec 2c 20 e4 f0 f3 e7 fc ff 21\n",
      "Key:  56 aa ae aa 11 4b 5c a2 b8 95 3c 3b 82 f f6 33 21 70 e3 83 2f 6e\n",
      "Hex Crypted Text:  87 8a 63 44 f3 b0 b0 82 7b 7b d8 d5 6e 23 d6 d7 d1 83 04 7f d0 4f\n",
      "Crypted Text: ‡ЉcDу°°‚{{ШХn#ЦЧСѓ\u0004РO\n"
     ]
    }
   ],
   "source": [
    "ct = crypt_message(raw, key1)"
   ]
  },
  {
   "cell_type": "code",
   "execution_count": 29,
   "id": "9f9eecbf",
   "metadata": {},
   "outputs": [
    {
     "name": "stdout",
     "output_type": "stream",
     "text": [
      "Open Text: ‡ЉcDу°°‚{{ШХn#ЦЧСѓ\u0004РO\n",
      "Hex Open Text:  87 8a 63 44 f3 b0 b0 82 7b 7b d8 d5 6e 23 d6 d7 d1 83 04 7f d0 4f\n",
      "Key:  56 aa ae aa 11 4b 5c a2 b8 95 3c 3b 82 f f6 33 21 70 e3 83 2f 6e\n",
      "Hex Crypted Text:  d1 20 cd ee e2 fb ec 20 c3 ee e4 ee ec 2c 20 e4 f0 f3 e7 fc ff 21\n",
      "Crypted Text: С Новым Годом, друзья!\n"
     ]
    }
   ],
   "source": [
    "dct = crypt_message(ct, key1)"
   ]
  },
  {
   "cell_type": "code",
   "execution_count": 32,
   "id": "e67fb29d",
   "metadata": {},
   "outputs": [
    {
     "name": "stdout",
     "output_type": "stream",
     "text": [
      "Open Text: С Новым Годом, друзья!\n",
      "Crypted Text: ‡ЉcDу°°‚{{ШХn#ЦЧСѓ\u0004РO\n",
      "Hex Open Text:  d1 20 cd ee e2 fb ec 20 c3 ee e4 ee ec 2c 20 e4 f0 f3 e7 fc ff 21\n",
      "Hex Crypted Text:  87 8a 63 44 f3 b0 b0 82 7b 7b d8 d5 6e 23 d6 d7 d1 83 04 7f d0 4f\n",
      "Key  56 aa ae aa 11 4b 5c a2 b8 95 3c 3b 82 f f6 33 21 70 e3 83 2f 6e\n"
     ]
    }
   ],
   "source": [
    "key2 = find_key(raw, ct)"
   ]
  },
  {
   "cell_type": "code",
   "execution_count": 34,
   "id": "bd296c13",
   "metadata": {},
   "outputs": [
    {
     "data": {
      "text/plain": [
       "True"
      ]
     },
     "execution_count": 34,
     "metadata": {},
     "output_type": "execute_result"
    }
   ],
   "source": [
    "key1 == key2"
   ]
  },
  {
   "cell_type": "code",
   "execution_count": 35,
   "id": "c802ba28",
   "metadata": {},
   "outputs": [
    {
     "name": "stdout",
     "output_type": "stream",
     "text": [
      "Open Text: С Новым Годом, друзья?\n",
      "Crypted Text: ‡ЉcDу°°‚{{ШХn#ЦЧСѓ\u0004РO\n",
      "Hex Open Text:  d1 20 cd ee e2 fb ec 20 c3 ee e4 ee ec 2c 20 e4 f0 f3 e7 fc ff 3f\n",
      "Hex Crypted Text:  87 8a 63 44 f3 b0 b0 82 7b 7b d8 d5 6e 23 d6 d7 d1 83 04 7f d0 4f\n",
      "Key  56 aa ae aa 11 4b 5c a2 b8 95 3c 3b 82 f f6 33 21 70 e3 83 2f 70\n"
     ]
    }
   ],
   "source": [
    "key3 = find_key(\"С Новым Годом, друзья?\", ct)"
   ]
  },
  {
   "cell_type": "code",
   "execution_count": 36,
   "id": "702b45cf",
   "metadata": {},
   "outputs": [
    {
     "data": {
      "text/plain": [
       "False"
      ]
     },
     "execution_count": 36,
     "metadata": {},
     "output_type": "execute_result"
    }
   ],
   "source": [
    "key1 == key3"
   ]
  },
  {
   "cell_type": "code",
   "execution_count": null,
   "id": "36c6087d",
   "metadata": {},
   "outputs": [],
   "source": []
  }
 ],
 "metadata": {
  "kernelspec": {
   "display_name": "Python 3 (ipykernel)",
   "language": "python",
   "name": "python3"
  },
  "language_info": {
   "codemirror_mode": {
    "name": "ipython",
    "version": 3
   },
   "file_extension": ".py",
   "mimetype": "text/x-python",
   "name": "python",
   "nbconvert_exporter": "python",
   "pygments_lexer": "ipython3",
   "version": "3.8.8"
  }
 },
 "nbformat": 4,
 "nbformat_minor": 5
}
